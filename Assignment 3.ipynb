{
 "cells": [
  {
   "cell_type": "code",
   "execution_count": 1,
   "id": "fa9bd21d-5840-4862-a44e-0a546bfdb7b5",
   "metadata": {},
   "outputs": [
    {
     "name": "stdin",
     "output_type": "stream",
     "text": [
      "Enter the month (1-12):  5\n"
     ]
    },
    {
     "name": "stdout",
     "output_type": "stream",
     "text": [
      "Month 5 is May\n"
     ]
    }
   ],
   "source": [
    "# 1) Program to find month of the year\n",
    "\n",
    "month_number = int(input(\"Enter the month (1-12): \"))\n",
    "\n",
    "if month_number == 1:\n",
    "    print(\"Month 1 is January\")\n",
    "elif month_number == 2:\n",
    "    print(\"Month 2 is February\")\n",
    "elif month_number == 3:\n",
    "    print(\"Month 3 is March\")\n",
    "elif month_number == 4:\n",
    "    print(\"Month 4 is April\")\n",
    "elif month_number == 5:\n",
    "    print(\"Month 5 is May\")\n",
    "elif month_number == 6:\n",
    "    print(\"Month 6 is June\")\n",
    "elif month_number == 7:\n",
    "    print(\"Month 7 is July\")\n",
    "elif month_number == 8:\n",
    "    print(\"Month 8 is August\")\n",
    "elif month_number == 9:\n",
    "    print(\"Month 9 is September\")\n",
    "elif month_number == 10:\n",
    "    print(\"Month 10 is October\")\n",
    "elif month_number == 11:\n",
    "    print(\"Month 11 is November\")\n",
    "elif month_number == 12:\n",
    "    print(\"Month 12 is December\")\n",
    "else:\n",
    "    print(\"Invalid input! Please enter a number between 1 and 12.\")"
   ]
  },
  {
   "cell_type": "code",
   "execution_count": 2,
   "id": "12be250e-5d40-4f57-b4c8-b4a60a89e7af",
   "metadata": {},
   "outputs": [
    {
     "name": "stdin",
     "output_type": "stream",
     "text": [
      "Enter your age:  63\n"
     ]
    },
    {
     "name": "stdout",
     "output_type": "stream",
     "text": [
      "Your ticket costs £2.00\n"
     ]
    }
   ],
   "source": [
    "# 2) Calculate ticket price\n",
    "age = int(input(\"Enter your age: \"))\n",
    "\n",
    "full_price = 6.00\n",
    "\n",
    "if age < 16:\n",
    "    ticket_price = full_price / 2\n",
    "elif age >= 60:\n",
    "    ticket_price = full_price / 3\n",
    "else:\n",
    "    ticket_price = full_price\n",
    "\n",
    "print(f\"Your ticket costs £{ticket_price:.2f}\")"
   ]
  },
  {
   "cell_type": "code",
   "execution_count": 3,
   "id": "7db36c27-f142-45b4-bfd0-dca5557d0944",
   "metadata": {},
   "outputs": [
    {
     "name": "stdin",
     "output_type": "stream",
     "text": [
      "Enter your weight in kg:  75\n",
      "Enter your height in meters:  1.70\n"
     ]
    },
    {
     "name": "stdout",
     "output_type": "stream",
     "text": [
      "Your BMI is: 25.95\n",
      "You are in the 'overweight' range.\n"
     ]
    }
   ],
   "source": [
    "# 3) Calculate BMI\n",
    "weight = float(input(\"Enter your weight in kg: \"))\n",
    "height = float(input(\"Enter your height in meters: \"))\n",
    "\n",
    "bmi = weight / (height ** 2)\n",
    "\n",
    "print(f\"Your BMI is: {bmi:.2f}\")\n",
    "\n",
    "if bmi < 18.5:\n",
    "    print(\"You are in the 'underweight' range.\")\n",
    "elif 18.5 <= bmi <= 24.9:\n",
    "    print(\"You are in the 'normal' range.\")\n",
    "elif 25 <= bmi <= 29.9:\n",
    "    print(\"You are in the 'overweight' range.\")\n",
    "else:\n",
    "    print(\"You are in the 'obese' range.\")"
   ]
  },
  {
   "cell_type": "code",
   "execution_count": 4,
   "id": "25e7385d-c026-495c-bcde-10ae5e6d2baa",
   "metadata": {},
   "outputs": [
    {
     "name": "stdin",
     "output_type": "stream",
     "text": [
      "Enter the first number:  3\n",
      "Enter the second number:  5\n",
      "Enter the third number:  7\n"
     ]
    },
    {
     "name": "stdout",
     "output_type": "stream",
     "text": [
      "The greatest number is 7.0\n"
     ]
    }
   ],
   "source": [
    "# 4) Find the greatest number\n",
    "num1 = float(input(\"Enter the first number: \"))\n",
    "num2 = float(input(\"Enter the second number: \"))\n",
    "num3 = float(input(\"Enter the third number: \"))\n",
    "\n",
    "if num1 > num2 and num1 > num3:\n",
    "    print(f\"The greatest number is {num1}\")\n",
    "elif num2 > num1 and num2 > num3:\n",
    "    print(f\"The greatest number is {num2}\")\n",
    "else:\n",
    "    print(f\"The greatest number is {num3}\")"
   ]
  },
  {
   "cell_type": "code",
   "execution_count": 5,
   "id": "0b643424-164e-4769-b75e-82bf35e8bb08",
   "metadata": {},
   "outputs": [
    {
     "name": "stdin",
     "output_type": "stream",
     "text": [
      "Enter a number:  5\n"
     ]
    },
    {
     "name": "stdout",
     "output_type": "stream",
     "text": [
      "The factorial of 5 is 120\n"
     ]
    }
   ],
   "source": [
    "# 5) Find factorial\n",
    "num = int(input(\"Enter a number: \"))\n",
    "factorial = 1\n",
    "\n",
    "for i in range(1, num + 1):\n",
    "    factorial *= i\n",
    "\n",
    "print(f\"The factorial of {num} is {factorial}\")"
   ]
  },
  {
   "cell_type": "code",
   "execution_count": 6,
   "id": "31e78778-902f-4d41-b799-eaf254d3796e",
   "metadata": {},
   "outputs": [
    {
     "name": "stdin",
     "output_type": "stream",
     "text": [
      "Enter a number:  56758\n"
     ]
    },
    {
     "name": "stdout",
     "output_type": "stream",
     "text": [
      "The reversed number is 85765\n"
     ]
    }
   ],
   "source": [
    "# 6) Reverse the number\n",
    "num = int(input(\"Enter a number: \"))\n",
    "reversed_num = 0\n",
    "\n",
    "while num > 0:\n",
    "    digit = num % 10\n",
    "    reversed_num = reversed_num * 10 + digit\n",
    "    num = num // 10\n",
    "\n",
    "print(f\"The reversed number is {reversed_num}\")\n"
   ]
  },
  {
   "cell_type": "code",
   "execution_count": 11,
   "id": "1019bd4c-f853-4e52-99b7-b9f99501e682",
   "metadata": {},
   "outputs": [
    {
     "name": "stdin",
     "output_type": "stream",
     "text": [
      "Enter a number:  5\n",
      "Enter the limit:  10\n"
     ]
    },
    {
     "name": "stdout",
     "output_type": "stream",
     "text": [
      "Multiples of 5:\n",
      "5\n",
      "10\n",
      "15\n",
      "20\n",
      "25\n",
      "30\n",
      "35\n",
      "40\n",
      "45\n",
      "50\n"
     ]
    }
   ],
   "source": [
    "# 7) Find multiples\n",
    "number = int(input(\"Enter a number: \"))\n",
    "limit = int(input(\"Enter the limit: \"))\n",
    "\n",
    "print(f\"Multiples of {number}:\")\n",
    "for i in range(1, limit + 1):\n",
    "    print(number * i)\n"
   ]
  },
  {
   "cell_type": "code",
   "execution_count": 8,
   "id": "13e01d71-cac8-4008-8d74-d84a9bf982c6",
   "metadata": {},
   "outputs": [
    {
     "name": "stdin",
     "output_type": "stream",
     "text": [
      ": hello world\n"
     ]
    },
    {
     "name": "stdout",
     "output_type": "stream",
     "text": [
      "hello world\n"
     ]
    },
    {
     "name": "stdin",
     "output_type": "stream",
     "text": [
      ": done\n"
     ]
    },
    {
     "name": "stdout",
     "output_type": "stream",
     "text": [
      "Hello there\n"
     ]
    }
   ],
   "source": [
    "# 8) Print the inputted value as it is \n",
    "while True:\n",
    "    user_input = input(\":\")\n",
    "    if user_input.lower() == \"done\":\n",
    "        print(\"Hello there\")\n",
    "        break\n",
    "    else:\n",
    "        print(user_input)"
   ]
  },
  {
   "cell_type": "code",
   "execution_count": 9,
   "id": "105f8c44-39f6-4d4f-a525-acd93efa59b4",
   "metadata": {},
   "outputs": [
    {
     "name": "stdout",
     "output_type": "stream",
     "text": [
      "1\n",
      "2\n",
      "Fizz\n",
      "4\n",
      "Buzz\n",
      "Fizz\n",
      "7\n",
      "8\n",
      "Fizz\n",
      "Buzz\n"
     ]
    }
   ],
   "source": [
    "# 9) Print Fizz and Buzz\n",
    "for i in range(1, 11):\n",
    "    if i % 3 == 0 and i % 5 == 0:\n",
    "        print(\"FizzBuzz\")\n",
    "    elif i % 3 == 0:\n",
    "        print(\"Fizz\")\n",
    "    elif i % 5 == 0:\n",
    "        print(\"Buzz\")\n",
    "    else:\n",
    "        print(i)"
   ]
  },
  {
   "cell_type": "code",
   "execution_count": 10,
   "id": "66bc791c-634f-42fe-af9a-ed1770b8ac30",
   "metadata": {},
   "outputs": [
    {
     "name": "stdout",
     "output_type": "stream",
     "text": [
      "5 4 3 2 1 \n",
      "4 3 2 1 \n",
      "3 2 1 \n",
      "2 1 \n",
      "1 \n"
     ]
    }
   ],
   "source": [
    "# 10) Print pattern\n",
    "for i in range(5, 0, -1):\n",
    "    for j in range(i, 0, -1):\n",
    "        print(j, end=\" \")\n",
    "    print()"
   ]
  },
  {
   "cell_type": "code",
   "execution_count": null,
   "id": "bbe08b31-4dbe-4828-b17f-7c1492ba1d17",
   "metadata": {},
   "outputs": [],
   "source": []
  }
 ],
 "metadata": {
  "kernelspec": {
   "display_name": "Python 3 (ipykernel)",
   "language": "python",
   "name": "python3"
  },
  "language_info": {
   "codemirror_mode": {
    "name": "ipython",
    "version": 3
   },
   "file_extension": ".py",
   "mimetype": "text/x-python",
   "name": "python",
   "nbconvert_exporter": "python",
   "pygments_lexer": "ipython3",
   "version": "3.12.7"
  }
 },
 "nbformat": 4,
 "nbformat_minor": 5
}
